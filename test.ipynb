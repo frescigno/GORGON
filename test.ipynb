{
 "cells": [
  {
   "cell_type": "code",
   "execution_count": 51,
   "metadata": {},
   "outputs": [],
   "source": [
    "import numpy as np\n",
    "import scipy as sc\n",
    "#import GP_Likelihood as gp\n",
    "import Kernels as ker\n",
    "import Models as mod\n",
    "import Parameters as par\n",
    "from MCMC_aux import get_model\n",
    "import auxiliary as aux\n",
    "import matplotlib.pyplot as plt"
   ]
  },
  {
   "cell_type": "code",
   "execution_count": null,
   "metadata": {},
   "outputs": [],
   "source": [
    "a = np.array([1,2,3])\n",
    "if type(a) == np.ndarray:\n",
    "    a = a.tolist()\n",
    "type(a)"
   ]
  },
  {
   "cell_type": "code",
   "execution_count": null,
   "metadata": {},
   "outputs": [],
   "source": [
    "model = ([1,2,3,4,5],[1,2,3,4,5])\n",
    "if model != None:\n",
    "    print('yes')"
   ]
  },
  {
   "cell_type": "code",
   "execution_count": null,
   "metadata": {},
   "outputs": [],
   "source": [
    "a1 = np.arange(0,10,2)\n",
    "a2 = np.arange(0,10,1.3)\n",
    "a = (a1,a2)\n",
    "list = []\n",
    "for N, i in enumerate(a):\n",
    "    flag = np.zeros_like(i) + N\n",
    "    list.append(flag)\n",
    "list = np.concatenate(list)\n",
    "print(list)"
   ]
  },
  {
   "cell_type": "code",
   "execution_count": null,
   "metadata": {},
   "outputs": [],
   "source": [
    "model_list = [\"polynomial\", \"polynomial\"]\n",
    "time = np.arange(0,20,0.1)\n",
    "mod_par = mod.mod_create(model_list)\n",
    "mod_par['a_0_0'] = par.parameter(10, 0.5, True)\n",
    "mod_par['a_1_0'] = par.parameter(10, 0.5, True)\n",
    "mod_par['a_2_0'] = par.parameter(10, 0.5, True)\n",
    "mod_par['a_3_0'] = par.parameter(10, 0.5, True)\n",
    "mod_par['a_0_1'] = par.parameter(10, 0.5, True)\n",
    "mod_par['a_1_1'] = par.parameter(10, 0.5, True)\n",
    "mod_par['a_2_1'] = par.parameter(10, 0.5, True)\n",
    "mod_par['a_3_1'] = par.parameter(10, 0.5, True)\n",
    "get_model(model_list, time, mod_par, to_ecc=False)"
   ]
  },
  {
   "cell_type": "code",
   "execution_count": null,
   "metadata": {},
   "outputs": [],
   "source": [
    "for i in range(10):\n",
    "    if i == 2:\n",
    "        break\n",
    "i"
   ]
  },
  {
   "cell_type": "code",
   "execution_count": null,
   "metadata": {},
   "outputs": [],
   "source": [
    "a = [\"no_model\"]\n",
    "if a[0].startswith(\"no\"):\n",
    "    print(\"no\")"
   ]
  },
  {
   "cell_type": "code",
   "execution_count": null,
   "metadata": {},
   "outputs": [],
   "source": [
    "a = np.zeros(shape = (1,10,5))\n",
    "for i in range(10):\n",
    "    b = np.ones(shape = (1,10,5)) * i+1\n",
    "    a = np.concatenate((a,b))\n"
   ]
  },
  {
   "cell_type": "code",
   "execution_count": null,
   "metadata": {},
   "outputs": [],
   "source": [
    "b = np.ones(shape = (1,4,4))\n",
    "list = b[0,0,]\n",
    "a = np.zeros(shape =(1,4,4))\n",
    "a[0,0,] = list\n",
    "a"
   ]
  },
  {
   "cell_type": "code",
   "execution_count": null,
   "metadata": {},
   "outputs": [],
   "source": [
    "a = aux.initial_pos_creator([1.,2.,3.], [0.5,0.5,0.5], 10)\n",
    "a"
   ]
  },
  {
   "cell_type": "code",
   "execution_count": null,
   "metadata": {},
   "outputs": [],
   "source": [
    "\n",
    "b = np.ones(shape = (1,10,3))\n",
    "a = np.concatenate((a,b))\n",
    "c = a[:,:,0] # print first column of all dimensions\n",
    "d = a[:,0,:] # print the first row of all dimensions\n",
    "a[0,0,]\n"
   ]
  },
  {
   "cell_type": "code",
   "execution_count": null,
   "metadata": {},
   "outputs": [],
   "source": [
    "a = [True for i in range(10)]\n",
    "b = np.zeros(shape = (1,10,1))\n",
    "b[0,:,0] = a\n",
    "if b[0,0,0] == True:\n",
    "    print(b[0][0][0])"
   ]
  },
  {
   "cell_type": "code",
   "execution_count": null,
   "metadata": {},
   "outputs": [],
   "source": [
    "a = np.zeros(shape = (1,4,2))\n",
    "b = np.zeros(shape = (1,4,2))\n",
    "a = np.concatenate((a,b))\n",
    "a"
   ]
  },
  {
   "cell_type": "code",
   "execution_count": 27,
   "metadata": {},
   "outputs": [
    {
     "ename": "AttributeError",
     "evalue": "'str' object has no attribute 'value'",
     "output_type": "error",
     "traceback": [
      "\u001b[0;31m---------------------------------------------------------------------------\u001b[0m",
      "\u001b[0;31mAttributeError\u001b[0m                            Traceback (most recent call last)",
      "Cell \u001b[0;32mIn[27], line 7\u001b[0m\n\u001b[1;32m      5\u001b[0m \u001b[39mfor\u001b[39;00m i \u001b[39min\u001b[39;00m \u001b[39mrange\u001b[39m(\u001b[39m10\u001b[39m):\n\u001b[1;32m      6\u001b[0m     \u001b[39mtry\u001b[39;00m:\n\u001b[0;32m----> 7\u001b[0m         a[\u001b[39m'\u001b[39m\u001b[39mP_\u001b[39m\u001b[39m'\u001b[39m\u001b[39m+\u001b[39m\u001b[39mstr\u001b[39m(i)]\u001b[39m.\u001b[39mvalue\n\u001b[1;32m      8\u001b[0m         var_name \u001b[39m=\u001b[39m \u001b[39mf\u001b[39m\u001b[39m\"\u001b[39m\u001b[39mmass\u001b[39m\u001b[39m{\u001b[39;00mi\u001b[39m}\u001b[39;00m\u001b[39m_list\u001b[39m\u001b[39m\"\u001b[39m\n\u001b[1;32m      9\u001b[0m         value \u001b[39m=\u001b[39m np\u001b[39m.\u001b[39mzeros(shape\u001b[39m=\u001b[39m(\u001b[39m1\u001b[39m, \u001b[39m20\u001b[39m, \u001b[39m1\u001b[39m))\n",
      "\u001b[0;31mAttributeError\u001b[0m: 'str' object has no attribute 'value'"
     ]
    }
   ],
   "source": [
    "model_list = [\"Keplerian\", \"Keplerian\", \"Keplerian\"]\n",
    "a = mod.mod_create(model_list)\n",
    "a[\"P_0\"] = par.parameter(10,0.5,True)\n",
    "a[\"P_1\"] = par.parameter(10,0.5,True)\n",
    "for i in range(10):\n",
    "    try:\n",
    "        a['P_'+str(i)].value\n",
    "        var_name = f\"mass{i}_list\"\n",
    "        value = np.zeros(shape=(1, 20, 1))\n",
    "        globals()[var_name] = value\n",
    "    except KeyError:\n",
    "        continue"
   ]
  },
  {
   "cell_type": "code",
   "execution_count": 18,
   "metadata": {},
   "outputs": [],
   "source": [
    "mass_dict = dict()\n",
    "for i in range(10):\n",
    "    try:\n",
    "        a['P_'+str(i)].value\n",
    "        mass_dict['mass_'+str(i)] = np.zeros(shape = (1, 20, 1))\n",
    "    except KeyError:\n",
    "        continue\n",
    "mass_dict['mass_1'] = np.concatenate((mass_dict['mass_1'], mass_dict['mass_1']))"
   ]
  },
  {
   "cell_type": "code",
   "execution_count": 32,
   "metadata": {},
   "outputs": [
    {
     "name": "stdout",
     "output_type": "stream",
     "text": [
      "0\n",
      "1\n",
      "2\n"
     ]
    }
   ],
   "source": [
    "par_list = []\n",
    "try:\n",
    "    a['P'].value\n",
    "    mass_list = np.zeros(shape = (1, 20, 1))\n",
    "except KeyError:\n",
    "    for i in range(len(model_list)):\n",
    "        try:\n",
    "            a['P_'+str(i)]\n",
    "            par_list.append(i)\n",
    "        except KeyError:\n",
    "            continue\n",
    "    mass_list = np.zeros(shape = (1, 20, len(par_list)))\n",
    "for i in range(len(mass_list[0,0,])):\n",
    "    print(i)"
   ]
  },
  {
   "cell_type": "code",
   "execution_count": 37,
   "metadata": {},
   "outputs": [
    {
     "data": {
      "text/plain": [
       "(1, 4, 4)"
      ]
     },
     "execution_count": 37,
     "metadata": {},
     "output_type": "execute_result"
    }
   ],
   "source": [
    "a = np.zeros(shape = (1,4,4))\n",
    "b = np.ones_like(a)\n",
    "c = np.zeros_like(b)\n",
    "a = np.concatenate((b,c))\n",
    "np.shape(c)"
   ]
  },
  {
   "cell_type": "code",
   "execution_count": 40,
   "metadata": {},
   "outputs": [
    {
     "data": {
      "text/plain": [
       "[1, 6, 6, 4, 6, 5]"
      ]
     },
     "execution_count": 40,
     "metadata": {},
     "output_type": "execute_result"
    }
   ],
   "source": [
    "a = [1,2,2,4,2,5]\n",
    "for N,i in enumerate(a):\n",
    "    if i == 2:\n",
    "        a[N] = 6\n",
    "a"
   ]
  },
  {
   "cell_type": "code",
   "execution_count": 60,
   "metadata": {},
   "outputs": [
    {
     "data": {
      "text/plain": [
       "4"
      ]
     },
     "execution_count": 60,
     "metadata": {},
     "output_type": "execute_result"
    }
   ],
   "source": [
    "a = np.zeros(shape =(2, 4, 4))\n",
    "a[0,0,:] = 2\n",
    "a[1,0,:] = 3\n",
    "a[:,2,:] = 4\n",
    "a[:,:,3] = 5\n",
    "\n",
    "#for i in range(4):\n",
    "#    plt.plot((1,2), a[:,i,0])\n",
    "shapes = a.shape\n",
    "shapes[2]"
   ]
  },
  {
   "cell_type": "code",
   "execution_count": null,
   "metadata": {},
   "outputs": [],
   "source": []
  }
 ],
 "metadata": {
  "kernelspec": {
   "display_name": "MAGPy",
   "language": "python",
   "name": "python3"
  },
  "language_info": {
   "codemirror_mode": {
    "name": "ipython",
    "version": 3
   },
   "file_extension": ".py",
   "mimetype": "text/x-python",
   "name": "python",
   "nbconvert_exporter": "python",
   "pygments_lexer": "ipython3",
   "version": "3.11.3"
  },
  "orig_nbformat": 4
 },
 "nbformat": 4,
 "nbformat_minor": 2
}
