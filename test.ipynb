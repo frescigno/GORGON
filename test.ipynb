{
 "cells": [
  {
   "cell_type": "code",
   "execution_count": 1,
   "metadata": {},
   "outputs": [],
   "source": [
    "import numpy as np\n",
    "import scipy as sc\n",
    "#import GP_Likelihood as gp\n",
    "import Kernels as ker\n",
    "import Models as mod\n",
    "import Parameters as par\n",
    "from MCMC_aux import get_model\n",
    "import auxiliary as aux\n",
    "import matplotlib.pyplot as plt"
   ]
  },
  {
   "cell_type": "code",
   "execution_count": null,
   "metadata": {},
   "outputs": [],
   "source": [
    "a = np.array([1,2,3])\n",
    "if type(a) == np.ndarray:\n",
    "    a = a.tolist()\n",
    "type(a)"
   ]
  },
  {
   "cell_type": "code",
   "execution_count": null,
   "metadata": {},
   "outputs": [],
   "source": [
    "model = ([1,2,3,4,5],[1,2,3,4,5])\n",
    "if model != None:\n",
    "    print('yes')"
   ]
  },
  {
   "cell_type": "code",
   "execution_count": null,
   "metadata": {},
   "outputs": [],
   "source": [
    "a1 = np.arange(0,10,2)\n",
    "a2 = np.arange(0,10,1.3)\n",
    "a = (a1,a2)\n",
    "list = []\n",
    "for N, i in enumerate(a):\n",
    "    flag = np.zeros_like(i) + N\n",
    "    list.append(flag)\n",
    "list = np.concatenate(list)\n",
    "print(list)"
   ]
  },
  {
   "cell_type": "code",
   "execution_count": null,
   "metadata": {},
   "outputs": [],
   "source": [
    "model_list = [\"polynomial\", \"polynomial\"]\n",
    "time = np.arange(0,20,0.1)\n",
    "mod_par = mod.mod_create(model_list)\n",
    "mod_par['a_0_0'] = par.parameter(10, 0.5, True)\n",
    "mod_par['a_1_0'] = par.parameter(10, 0.5, True)\n",
    "mod_par['a_2_0'] = par.parameter(10, 0.5, True)\n",
    "mod_par['a_3_0'] = par.parameter(10, 0.5, True)\n",
    "mod_par['a_0_1'] = par.parameter(10, 0.5, True)\n",
    "mod_par['a_1_1'] = par.parameter(10, 0.5, True)\n",
    "mod_par['a_2_1'] = par.parameter(10, 0.5, True)\n",
    "mod_par['a_3_1'] = par.parameter(10, 0.5, True)\n",
    "get_model(model_list, time, mod_par, to_ecc=False)"
   ]
  },
  {
   "cell_type": "code",
   "execution_count": null,
   "metadata": {},
   "outputs": [],
   "source": [
    "for i in range(10):\n",
    "    if i == 2:\n",
    "        break\n",
    "i"
   ]
  },
  {
   "cell_type": "code",
   "execution_count": null,
   "metadata": {},
   "outputs": [],
   "source": [
    "a = [\"no_model\"]\n",
    "if a[0].startswith(\"no\"):\n",
    "    print(\"no\")"
   ]
  },
  {
   "cell_type": "code",
   "execution_count": null,
   "metadata": {},
   "outputs": [],
   "source": [
    "a = np.zeros(shape = (1,10,5))\n",
    "for i in range(10):\n",
    "    b = np.ones(shape = (1,10,5)) * i+1\n",
    "    a = np.concatenate((a,b))\n"
   ]
  },
  {
   "cell_type": "code",
   "execution_count": null,
   "metadata": {},
   "outputs": [],
   "source": [
    "b = np.ones(shape = (1,4,4))\n",
    "list = b[0,0,]\n",
    "a = np.zeros(shape =(1,4,4))\n",
    "a[0,0,] = list\n",
    "a"
   ]
  },
  {
   "cell_type": "code",
   "execution_count": null,
   "metadata": {},
   "outputs": [],
   "source": [
    "a = aux.initial_pos_creator([1.,2.,3.], [0.5,0.5,0.5], 10)\n",
    "a"
   ]
  },
  {
   "cell_type": "code",
   "execution_count": null,
   "metadata": {},
   "outputs": [],
   "source": [
    "\n",
    "b = np.ones(shape = (1,10,3))\n",
    "a = np.concatenate((a,b))\n",
    "c = a[:,:,0] # print first column of all dimensions\n",
    "d = a[:,0,:] # print the first row of all dimensions\n",
    "a[0,0,]\n"
   ]
  },
  {
   "cell_type": "code",
   "execution_count": null,
   "metadata": {},
   "outputs": [],
   "source": [
    "a = [True for i in range(10)]\n",
    "b = np.zeros(shape = (1,10,1))\n",
    "b[0,:,0] = a\n",
    "if b[0,0,0] == True:\n",
    "    print(b[0][0][0])"
   ]
  },
  {
   "cell_type": "code",
   "execution_count": null,
   "metadata": {},
   "outputs": [],
   "source": [
    "a = np.zeros(shape = (1,4,2))\n",
    "b = np.zeros(shape = (1,4,2))\n",
    "a = np.concatenate((a,b))\n",
    "a"
   ]
  },
  {
   "cell_type": "code",
   "execution_count": 27,
   "metadata": {},
   "outputs": [
    {
     "ename": "AttributeError",
     "evalue": "'str' object has no attribute 'value'",
     "output_type": "error",
     "traceback": [
      "\u001b[0;31m---------------------------------------------------------------------------\u001b[0m",
      "\u001b[0;31mAttributeError\u001b[0m                            Traceback (most recent call last)",
      "Cell \u001b[0;32mIn[27], line 7\u001b[0m\n\u001b[1;32m      5\u001b[0m \u001b[39mfor\u001b[39;00m i \u001b[39min\u001b[39;00m \u001b[39mrange\u001b[39m(\u001b[39m10\u001b[39m):\n\u001b[1;32m      6\u001b[0m     \u001b[39mtry\u001b[39;00m:\n\u001b[0;32m----> 7\u001b[0m         a[\u001b[39m'\u001b[39m\u001b[39mP_\u001b[39m\u001b[39m'\u001b[39m\u001b[39m+\u001b[39m\u001b[39mstr\u001b[39m(i)]\u001b[39m.\u001b[39mvalue\n\u001b[1;32m      8\u001b[0m         var_name \u001b[39m=\u001b[39m \u001b[39mf\u001b[39m\u001b[39m\"\u001b[39m\u001b[39mmass\u001b[39m\u001b[39m{\u001b[39;00mi\u001b[39m}\u001b[39;00m\u001b[39m_list\u001b[39m\u001b[39m\"\u001b[39m\n\u001b[1;32m      9\u001b[0m         value \u001b[39m=\u001b[39m np\u001b[39m.\u001b[39mzeros(shape\u001b[39m=\u001b[39m(\u001b[39m1\u001b[39m, \u001b[39m20\u001b[39m, \u001b[39m1\u001b[39m))\n",
      "\u001b[0;31mAttributeError\u001b[0m: 'str' object has no attribute 'value'"
     ]
    }
   ],
   "source": [
    "model_list = [\"Keplerian\", \"Keplerian\", \"Keplerian\"]\n",
    "a = mod.mod_create(model_list)\n",
    "a[\"P_0\"] = par.parameter(10,0.5,True)\n",
    "a[\"P_1\"] = par.parameter(10,0.5,True)\n",
    "for i in range(10):\n",
    "    try:\n",
    "        a['P_'+str(i)].value\n",
    "        var_name = f\"mass{i}_list\"\n",
    "        value = np.zeros(shape=(1, 20, 1))\n",
    "        globals()[var_name] = value\n",
    "    except KeyError:\n",
    "        continue"
   ]
  },
  {
   "cell_type": "code",
   "execution_count": 18,
   "metadata": {},
   "outputs": [],
   "source": [
    "mass_dict = dict()\n",
    "for i in range(10):\n",
    "    try:\n",
    "        a['P_'+str(i)].value\n",
    "        mass_dict['mass_'+str(i)] = np.zeros(shape = (1, 20, 1))\n",
    "    except KeyError:\n",
    "        continue\n",
    "mass_dict['mass_1'] = np.concatenate((mass_dict['mass_1'], mass_dict['mass_1']))"
   ]
  },
  {
   "cell_type": "code",
   "execution_count": 32,
   "metadata": {},
   "outputs": [
    {
     "name": "stdout",
     "output_type": "stream",
     "text": [
      "0\n",
      "1\n",
      "2\n"
     ]
    }
   ],
   "source": [
    "par_list = []\n",
    "try:\n",
    "    a['P'].value\n",
    "    mass_list = np.zeros(shape = (1, 20, 1))\n",
    "except KeyError:\n",
    "    for i in range(len(model_list)):\n",
    "        try:\n",
    "            a['P_'+str(i)]\n",
    "            par_list.append(i)\n",
    "        except KeyError:\n",
    "            continue\n",
    "    mass_list = np.zeros(shape = (1, 20, len(par_list)))\n",
    "for i in range(len(mass_list[0,0,])):\n",
    "    print(i)"
   ]
  },
  {
   "cell_type": "code",
   "execution_count": 37,
   "metadata": {},
   "outputs": [
    {
     "data": {
      "text/plain": [
       "(1, 4, 4)"
      ]
     },
     "execution_count": 37,
     "metadata": {},
     "output_type": "execute_result"
    }
   ],
   "source": [
    "a = np.zeros(shape = (1,4,4))\n",
    "b = np.ones_like(a)\n",
    "c = np.zeros_like(b)\n",
    "a = np.concatenate((b,c))\n",
    "np.shape(c)"
   ]
  },
  {
   "cell_type": "code",
   "execution_count": 40,
   "metadata": {},
   "outputs": [
    {
     "data": {
      "text/plain": [
       "[1, 6, 6, 4, 6, 5]"
      ]
     },
     "execution_count": 40,
     "metadata": {},
     "output_type": "execute_result"
    }
   ],
   "source": [
    "a = [1,2,2,4,2,5]\n",
    "for N,i in enumerate(a):\n",
    "    if i == 2:\n",
    "        a[N] = 6\n",
    "a"
   ]
  },
  {
   "cell_type": "code",
   "execution_count": 60,
   "metadata": {},
   "outputs": [
    {
     "data": {
      "text/plain": [
       "4"
      ]
     },
     "execution_count": 60,
     "metadata": {},
     "output_type": "execute_result"
    }
   ],
   "source": [
    "a = np.zeros(shape =(2, 4, 4))\n",
    "a[0,0,:] = 2\n",
    "a[1,0,:] = 3\n",
    "a[:,2,:] = 4\n",
    "a[:,:,3] = 5\n",
    "\n",
    "#for i in range(4):\n",
    "#    plt.plot((1,2), a[:,i,0])\n",
    "shapes = a.shape\n",
    "shapes[2]"
   ]
  },
  {
   "cell_type": "code",
   "execution_count": 4,
   "metadata": {},
   "outputs": [
    {
     "data": {
      "text/plain": [
       "3"
      ]
     },
     "execution_count": 4,
     "metadata": {},
     "output_type": "execute_result"
    }
   ],
   "source": [
    "a = np.zeros(shape = (3,2,1))\n",
    "len(a[:,0,0])"
   ]
  },
  {
   "cell_type": "code",
   "execution_count": 23,
   "metadata": {},
   "outputs": [
    {
     "name": "stderr",
     "output_type": "stream",
     "text": [
      "WARNING:root:Too few points to create valid contours\n",
      "WARNING:root:Too few points to create valid contours\n",
      "WARNING:root:Too few points to create valid contours\n",
      "WARNING:root:Too few points to create valid contours\n",
      "WARNING:root:Too few points to create valid contours\n",
      "WARNING:root:Too few points to create valid contours\n"
     ]
    },
    {
     "data": {
      "image/png": "[encoded data removed]",
      "text/plain": [
       "<Figure size 970x970 with 16 Axes>"
      ]
     },
     "metadata": {},
     "output_type": "display_data"
    }
   ],
   "source": [
    "import corner\n",
    "a = np.array(([1,2,3,4], [2,3,4,5], [5,5,6,7], [7,7,7,1], [1,2,3,4], [2,3,4,5], [5,5,6,7], [7,7,7,1],[1,2,3,4], [2,3,4,5], [5,5,6,7], [7,7,7,1], [1,2,3,4], [2,3,4,5], [5,5,6,7], [7,7,7,1]))\n",
    "CORNER_KWARGS = dict(label_kwargs=dict(fontsize=16), title_kwargs=dict(fontsize=16))\n",
    "fig = corner.corner(a, labels = [1,2,3,4], show_titels = True, **CORNER_KWARGS)"
   ]
  },
  {
   "cell_type": "code",
   "execution_count": 34,
   "metadata": {},
   "outputs": [
    {
     "name": "stdout",
     "output_type": "stream",
     "text": [
      "0.0\n",
      "1.0\n",
      "2.0\n",
      "3.0\n"
     ]
    }
   ],
   "source": [
    "a = [1,2,3]\n",
    "for i in range(len(a)+1):\n",
    "    print(i+0.)"
   ]
  },
  {
   "cell_type": "code",
   "execution_count": 39,
   "metadata": {},
   "outputs": [
    {
     "data": {
      "text/plain": [
       "dict_values([4, 6])"
      ]
     },
     "execution_count": 39,
     "metadata": {},
     "output_type": "execute_result"
    }
   ],
   "source": [
    "a = {'cheese':4, 'ham':6}\n",
    "a.values()"
   ]
  },
  {
   "cell_type": "code",
   "execution_count": 40,
   "metadata": {},
   "outputs": [
    {
     "data": {
      "text/plain": [
       "[<matplotlib.lines.Line2D at 0x12131d750>]"
      ]
     },
     "execution_count": 40,
     "metadata": {},
     "output_type": "execute_result"
    },
    {
     "data": {
      "image/png": "[encoded data removed]",
      "text/plain": [
       "<Figure size 640x480 with 1 Axes>"
      ]
     },
     "metadata": {},
     "output_type": "display_data"
    }
   ],
   "source": [
    "a = (1,3,7,4,2,6,4)\n",
    "b = (1,2,3,5,2,7,1)\n",
    "plt.plot(a,b)"
   ]
  },
  {
   "cell_type": "code",
   "execution_count": 47,
   "metadata": {},
   "outputs": [
    {
     "data": {
      "image/png": "[encoded data removed]",
      "text/plain": [
       "<Figure size 1000x700 with 2 Axes>"
      ]
     },
     "metadata": {},
     "output_type": "display_data"
    }
   ],
   "source": [
    "fig = plt.figure(figsize = (10,7))\n",
    "ax = fig.add_subplot(2,1,1)\n",
    "ax1 = fig.add_subplot(2,1,2)"
   ]
  },
  {
   "cell_type": "code",
   "execution_count": 69,
   "metadata": {},
   "outputs": [
    {
     "data": {
      "text/plain": [
       "{'fish': 5}"
      ]
     },
     "execution_count": 69,
     "metadata": {},
     "output_type": "execute_result"
    }
   ],
   "source": [
    "a = {'cheese':4, 'fish':5}\n",
    "b = list(a.keys())\n",
    "for i in b:\n",
    "    if i.startswith('cheese'):\n",
    "        del a[i]\n",
    "a"
   ]
  },
  {
   "cell_type": "code",
   "execution_count": 84,
   "metadata": {},
   "outputs": [
    {
     "name": "stdout",
     "output_type": "stream",
     "text": [
      "1\n"
     ]
    },
    {
     "data": {
      "text/plain": [
       "['Keplerian', 'Offset']"
      ]
     },
     "execution_count": 84,
     "metadata": {},
     "output_type": "execute_result"
    }
   ],
   "source": [
    "a = ['Keplerian', 'Offset', 'Offset']\n",
    "b = ['Kep' 'off', 'off']\n",
    "for N,i in enumerate(b):\n",
    "    if i.startswith('off') or i.startswith('Off'):\n",
    "        print(N)\n",
    "        del a[N]\n",
    "a"
   ]
  },
  {
   "cell_type": "code",
   "execution_count": 135,
   "metadata": {},
   "outputs": [
    {
     "data": {
      "text/plain": [
       "<matplotlib.legend.Legend at 0x126ddb390>"
      ]
     },
     "execution_count": 135,
     "metadata": {},
     "output_type": "execute_result"
    },
    {
     "data": {
      "image/png": "[encoded data removed]",
      "text/plain": [
       "<Figure size 640x480 with 1 Axes>"
      ]
     },
     "metadata": {},
     "output_type": "display_data"
    }
   ],
   "source": [
    "flags = [0,0,0,0,1,1,2,0,0,3,0,0,4,4,4,0,0]\n",
    "c_list = ['darkgreen', 'darkred', 'cyan', 'gold', 'magenta', 'saddlebrown']\n",
    "c_array = []\n",
    "for i in range(len(flags)):\n",
    "    for a in range(len(c_list)):\n",
    "        if flags[i] == a:\n",
    "            c_array.append(c_list[a])\n",
    "x = np.linspace(1,10,17)\n",
    "y = np.linspace(1,10,17)\n",
    "yerr = np.ones_like(x)*10\n",
    "c_array = np.array(c_array)\n",
    "c_dict = {'darkgreen':'darkgreen', 'darkred':'darkred', 'cyan':'cyan', 'gold':'gold', 'magenta':'magenta', 'saddlebrown':'saddlebrown'}\n",
    "for g in np.unique(c_array):\n",
    "    ix = np.where(c_array == g)\n",
    "    plt.errorbar(x[ix], y[ix], yerr = yerr[ix], fmt = '.', c = c_dict[g], label = g)\n",
    "plt.legend(bbox_to_anchor=(1.02, 1), loc='upper left', borderaxespad=0, fontsize = 10)\n"
   ]
  },
  {
   "cell_type": "code",
   "execution_count": 163,
   "metadata": {},
   "outputs": [],
   "source": [
    "a = ['fish', 'ham', 'Cheese']\n",
    "if not 'cheese' in a and not 'Cheese' in a:\n",
    "    raise KeyError(\"no\")\n",
    "    "
   ]
  },
  {
   "cell_type": "code",
   "execution_count": 169,
   "metadata": {},
   "outputs": [
    {
     "name": "stdout",
     "output_type": "stream",
     "text": [
      "[0. 0. 1. 1. 1. 2. 2. 2. 3. 3.]\n"
     ]
    }
   ],
   "source": [
    "time = [1,2,3,4,5,6,7,8,9,10]\n",
    "time = np.array(time)\n",
    "period = 3\n",
    "t0 = 0\n",
    "phase = (time - t0)/period\n",
    "    # Want phase to be between 0 and 1\n",
    "epoch = np.floor(phase)\n",
    "true_phase = phase - epoch"
   ]
  },
  {
   "cell_type": "code",
   "execution_count": 196,
   "metadata": {},
   "outputs": [
    {
     "ename": "IndexError",
     "evalue": "too many indices for array: array is 1-dimensional, but 4 were indexed",
     "output_type": "error",
     "traceback": [
      "\u001b[0;31m---------------------------------------------------------------------------\u001b[0m",
      "\u001b[0;31mIndexError\u001b[0m                                Traceback (most recent call last)",
      "Cell \u001b[0;32mIn[196], line 11\u001b[0m\n\u001b[1;32m      9\u001b[0m a[b[\u001b[39m0\u001b[39m]:]\n\u001b[1;32m     10\u001b[0m a \u001b[39m=\u001b[39m np\u001b[39m.\u001b[39marray(a)\n\u001b[0;32m---> 11\u001b[0m a[\u001b[39m1\u001b[39m,\u001b[39m2\u001b[39m,\u001b[39m3\u001b[39m,\u001b[39m4\u001b[39m]\n",
      "\u001b[0;31mIndexError\u001b[0m: too many indices for array: array is 1-dimensional, but 4 were indexed"
     ]
    }
   ],
   "source": [
    "a = [1,2,3,4,5,6,7,8]\n",
    "b = []\n",
    "c = []\n",
    "for N,i in enumerate(a):\n",
    "    if i > 5:\n",
    "        b.append(N)\n",
    "    if i < 5:\n",
    "        c.append(N)\n",
    "a[b[0]:]\n",
    "a = np.array(a)\n",
    "a[1,2,3,4]"
   ]
  },
  {
   "cell_type": "code",
   "execution_count": 7,
   "metadata": {},
   "outputs": [
    {
     "data": {
      "text/plain": [
       "(array([1.75, 2.  , 2.25, 2.5 , 2.75, 3.  , 3.25, 3.5 , 3.75, 4.  , 4.25]),\n",
       " [Text(0, 1.75, '1.75'),\n",
       "  Text(0, 2.0, '2.00'),\n",
       "  Text(0, 2.25, '2.25'),\n",
       "  Text(0, 2.5, '2.50'),\n",
       "  Text(0, 2.75, '2.75'),\n",
       "  Text(0, 3.0, '3.00'),\n",
       "  Text(0, 3.25, '3.25'),\n",
       "  Text(0, 3.5, '3.50'),\n",
       "  Text(0, 3.75, '3.75'),\n",
       "  Text(0, 4.0, '4.00'),\n",
       "  Text(0, 4.25, '4.25')])"
      ]
     },
     "execution_count": 7,
     "metadata": {},
     "output_type": "execute_result"
    },
    {
     "data": {
      "image/png": "[encoded data removed]",
      "text/plain": [
       "<Figure size 640x480 with 1 Axes>"
      ]
     },
     "metadata": {},
     "output_type": "display_data"
    }
   ],
   "source": [
    "b = '1'\n",
    "a = r\"H$_{}$\".format(b)\n",
    "plt.ylabel(a)\n",
    "plt.xlabel(a)\n",
    "plt.plot([1,2,3,4], [4,4,3,2])\n",
    "plt.yticks(size = 5)"
   ]
  },
  {
   "cell_type": "code",
   "execution_count": 23,
   "metadata": {},
   "outputs": [
    {
     "data": {
      "text/plain": [
       "array([[1., 0., 0., 0.],\n",
       "       [0., 0., 0., 0.]])"
      ]
     },
     "execution_count": 23,
     "metadata": {},
     "output_type": "execute_result"
    }
   ],
   "source": [
    "a = np.zeros(shape = (2,4,5))\n",
    "a[0,0,:] = 1\n",
    "a[:,:,0]"
   ]
  },
  {
   "cell_type": "code",
   "execution_count": 26,
   "metadata": {},
   "outputs": [
    {
     "data": {
      "text/plain": [
       "[1, 2, 3, 4]"
      ]
     },
     "execution_count": 26,
     "metadata": {},
     "output_type": "execute_result"
    }
   ],
   "source": [
    "a = [1,2,3,4]\n",
    "b = []\n",
    "c = a+b\n",
    "c"
   ]
  },
  {
   "cell_type": "code",
   "execution_count": 27,
   "metadata": {},
   "outputs": [
    {
     "ename": "TypeError",
     "evalue": "'str' object is not callable",
     "output_type": "error",
     "traceback": [
      "\u001b[0;31m---------------------------------------------------------------------------\u001b[0m",
      "\u001b[0;31mTypeError\u001b[0m                                 Traceback (most recent call last)",
      "Cell \u001b[0;32mIn[27], line 6\u001b[0m\n\u001b[1;32m      4\u001b[0m     \u001b[39mreturn\u001b[39;00m c\n\u001b[1;32m      5\u001b[0m \u001b[39mfor\u001b[39;00m i \u001b[39min\u001b[39;00m a:\n\u001b[0;32m----> 6\u001b[0m     i(\u001b[39m1\u001b[39m,\u001b[39m2\u001b[39m)\n",
      "\u001b[0;31mTypeError\u001b[0m: 'str' object is not callable"
     ]
    }
   ],
   "source": [
    "a = ['cheese', 'wheat', 'biscuit']\n",
    "def cheese(a,b):\n",
    "    c = a+b\n",
    "    return c\n",
    "for i in a:\n",
    "    i(1,2)"
   ]
  },
  {
   "cell_type": "code",
   "execution_count": 8,
   "metadata": {},
   "outputs": [
    {
     "data": {
      "text/plain": [
       "array([[ 1., 10.,  1.,  1.],\n",
       "       [ 1.,  1.,  5.,  1.],\n",
       "       [ 1.,  1.,  1.,  1.],\n",
       "       [ 1.,  1.,  2.,  1.]])"
      ]
     },
     "execution_count": 8,
     "metadata": {},
     "output_type": "execute_result"
    }
   ],
   "source": [
    "a = np.ones(shape = (4,4))\n",
    "a[0,1] = 10\n",
    "a[1,2] = 5\n",
    "a[3,2] = 2\n",
    "c = np.array(a)\n",
    "b = np.array(a)*0.1\n",
    "a[:,:]"
   ]
  },
  {
   "cell_type": "code",
   "execution_count": 5,
   "metadata": {},
   "outputs": [
    {
     "data": {
      "text/plain": [
       "['gp_per', 'gp_perlegth', 'gp_explength', 'gp_amp', 'jitter']"
      ]
     },
     "execution_count": 5,
     "metadata": {},
     "output_type": "execute_result"
    }
   ],
   "source": [
    "k = ker.JitterQuasiPer.hparams()\n",
    "k"
   ]
  },
  {
   "cell_type": "code",
   "execution_count": 11,
   "metadata": {},
   "outputs": [
    {
     "data": {
      "text/plain": [
       "{'a': 1, 'b': 2}"
      ]
     },
     "execution_count": 11,
     "metadata": {},
     "output_type": "execute_result"
    }
   ],
   "source": [
    "a = {'a':1, 'b':2}\n",
    "b = a.copy()\n",
    "b['a'] = 2\n",
    "a"
   ]
  },
  {
   "cell_type": "code",
   "execution_count": null,
   "metadata": {},
   "outputs": [],
   "source": []
  }
 ],
 "metadata": {
  "kernelspec": {
   "display_name": "MAGPy",
   "language": "python",
   "name": "python3"
  },
  "language_info": {
   "codemirror_mode": {
    "name": "ipython",
    "version": 3
   },
   "file_extension": ".py",
   "mimetype": "text/x-python",
   "name": "python",
   "nbconvert_exporter": "python",
   "pygments_lexer": "ipython3",
   "version": "3.11.3"
  },
  "orig_nbformat": 4
 },
 "nbformat": 4,
 "nbformat_minor": 2
}
