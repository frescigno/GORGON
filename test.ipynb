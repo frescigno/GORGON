{
 "cells": [
  {
   "cell_type": "code",
   "execution_count": 1,
   "metadata": {},
   "outputs": [],
   "source": [
    "import numpy as np\n",
    "import scipy as sc\n",
    "#import GP_Likelihood as gp\n",
    "import Kernels as ker\n",
    "import Models as mod\n",
    "import Parameters as par\n",
    "from MCMC_aux import get_model"
   ]
  },
  {
   "cell_type": "code",
   "execution_count": 11,
   "metadata": {},
   "outputs": [
    {
     "data": {
      "text/plain": [
       "list"
      ]
     },
     "execution_count": 11,
     "metadata": {},
     "output_type": "execute_result"
    }
   ],
   "source": [
    "a = np.array([1,2,3])\n",
    "if type(a) == np.ndarray:\n",
    "    a = a.tolist()\n",
    "type(a)"
   ]
  },
  {
   "cell_type": "code",
   "execution_count": 15,
   "metadata": {},
   "outputs": [
    {
     "name": "stdout",
     "output_type": "stream",
     "text": [
      "yes\n"
     ]
    }
   ],
   "source": [
    "model = ([1,2,3,4,5],[1,2,3,4,5])\n",
    "if model != None:\n",
    "    print('yes')"
   ]
  },
  {
   "cell_type": "code",
   "execution_count": 45,
   "metadata": {},
   "outputs": [
    {
     "name": "stdout",
     "output_type": "stream",
     "text": [
      "[0. 0. 0. 0. 0. 1. 1. 1. 1. 1. 1. 1. 1.]\n"
     ]
    }
   ],
   "source": [
    "a1 = np.arange(0,10,2)\n",
    "a2 = np.arange(0,10,1.3)\n",
    "a = (a1,a2)\n",
    "list = []\n",
    "for N, i in enumerate(a):\n",
    "    flag = np.zeros_like(i) + N\n",
    "    list.append(flag)\n",
    "list = np.concatenate(list)\n",
    "print(list)"
   ]
  },
  {
   "cell_type": "code",
   "execution_count": 2,
   "metadata": {},
   "outputs": [
    {
     "data": {
      "text/plain": [
       "array([2.0000000e+01, 2.2220000e+01, 2.4960000e+01, 2.8340000e+01,\n",
       "       3.2480000e+01, 3.7500000e+01, 4.3520000e+01, 5.0660000e+01,\n",
       "       5.9040000e+01, 6.8780000e+01, 8.0000000e+01, 9.2820000e+01,\n",
       "       1.0736000e+02, 1.2374000e+02, 1.4208000e+02, 1.6250000e+02,\n",
       "       1.8512000e+02, 2.1006000e+02, 2.3744000e+02, 2.6738000e+02,\n",
       "       3.0000000e+02, 3.3542000e+02, 3.7376000e+02, 4.1514000e+02,\n",
       "       4.5968000e+02, 5.0750000e+02, 5.5872000e+02, 6.1346000e+02,\n",
       "       6.7184000e+02, 7.3398000e+02, 8.0000000e+02, 8.7002000e+02,\n",
       "       9.4416000e+02, 1.0225400e+03, 1.1052800e+03, 1.1925000e+03,\n",
       "       1.2843200e+03, 1.3808600e+03, 1.4822400e+03, 1.5885800e+03,\n",
       "       1.7000000e+03, 1.8166200e+03, 1.9385600e+03, 2.0659400e+03,\n",
       "       2.1988800e+03, 2.3375000e+03, 2.4819200e+03, 2.6322600e+03,\n",
       "       2.7886400e+03, 2.9511800e+03, 3.1200000e+03, 3.2952200e+03,\n",
       "       3.4769600e+03, 3.6653400e+03, 3.8604800e+03, 4.0625000e+03,\n",
       "       4.2715200e+03, 4.4876600e+03, 4.7110400e+03, 4.9417800e+03,\n",
       "       5.1800000e+03, 5.4258200e+03, 5.6793600e+03, 5.9407400e+03,\n",
       "       6.2100800e+03, 6.4875000e+03, 6.7731200e+03, 7.0670600e+03,\n",
       "       7.3694400e+03, 7.6803800e+03, 8.0000000e+03, 8.3284200e+03,\n",
       "       8.6657600e+03, 9.0121400e+03, 9.3676800e+03, 9.7325000e+03,\n",
       "       1.0106720e+04, 1.0490460e+04, 1.0883840e+04, 1.1286980e+04,\n",
       "       1.1700000e+04, 1.2123020e+04, 1.2556160e+04, 1.2999540e+04,\n",
       "       1.3453280e+04, 1.3917500e+04, 1.4392320e+04, 1.4877860e+04,\n",
       "       1.5374240e+04, 1.5881580e+04, 1.6400000e+04, 1.6929620e+04,\n",
       "       1.7470560e+04, 1.8022940e+04, 1.8586880e+04, 1.9162500e+04,\n",
       "       1.9749920e+04, 2.0349260e+04, 2.0960640e+04, 2.1584180e+04,\n",
       "       2.2220000e+04, 2.2868220e+04, 2.3528960e+04, 2.4202340e+04,\n",
       "       2.4888480e+04, 2.5587500e+04, 2.6299520e+04, 2.7024660e+04,\n",
       "       2.7763040e+04, 2.8514780e+04, 2.9280000e+04, 3.0058820e+04,\n",
       "       3.0851360e+04, 3.1657740e+04, 3.2478080e+04, 3.3312500e+04,\n",
       "       3.4161120e+04, 3.5024060e+04, 3.5901440e+04, 3.6793380e+04,\n",
       "       3.7700000e+04, 3.8621420e+04, 3.9557760e+04, 4.0509140e+04,\n",
       "       4.1475680e+04, 4.2457500e+04, 4.3454720e+04, 4.4467460e+04,\n",
       "       4.5495840e+04, 4.6539980e+04, 4.7600000e+04, 4.8676020e+04,\n",
       "       4.9768160e+04, 5.0876540e+04, 5.2001280e+04, 5.3142500e+04,\n",
       "       5.4300320e+04, 5.5474860e+04, 5.6666240e+04, 5.7874580e+04,\n",
       "       5.9100000e+04, 6.0342620e+04, 6.1602560e+04, 6.2879940e+04,\n",
       "       6.4174880e+04, 6.5487500e+04, 6.6817920e+04, 6.8166260e+04,\n",
       "       6.9532640e+04, 7.0917180e+04, 7.2320000e+04, 7.3741220e+04,\n",
       "       7.5180960e+04, 7.6639340e+04, 7.8116480e+04, 7.9612500e+04,\n",
       "       8.1127520e+04, 8.2661660e+04, 8.4215040e+04, 8.5787780e+04,\n",
       "       8.7380000e+04, 8.8991820e+04, 9.0623360e+04, 9.2274740e+04,\n",
       "       9.3946080e+04, 9.5637500e+04, 9.7349120e+04, 9.9081060e+04,\n",
       "       1.0083344e+05, 1.0260638e+05, 1.0440000e+05, 1.0621442e+05,\n",
       "       1.0804976e+05, 1.0990614e+05, 1.1178368e+05, 1.1368250e+05,\n",
       "       1.1560272e+05, 1.1754446e+05, 1.1950784e+05, 1.2149298e+05,\n",
       "       1.2350000e+05, 1.2552902e+05, 1.2758016e+05, 1.2965354e+05,\n",
       "       1.3174928e+05, 1.3386750e+05, 1.3600832e+05, 1.3817186e+05,\n",
       "       1.4035824e+05, 1.4256758e+05, 1.4480000e+05, 1.4705562e+05,\n",
       "       1.4933456e+05, 1.5163694e+05, 1.5396288e+05, 1.5631250e+05,\n",
       "       1.5868592e+05, 1.6108326e+05, 1.6350464e+05, 1.6595018e+05])"
      ]
     },
     "execution_count": 2,
     "metadata": {},
     "output_type": "execute_result"
    }
   ],
   "source": [
    "model_list = [\"polynomial\", \"polynomial\"]\n",
    "time = np.arange(0,20,0.1)\n",
    "mod_par = mod.mod_create(model_list)\n",
    "mod_par['a_0_0'] = par.parameter(10, 0.5, True)\n",
    "mod_par['a_1_0'] = par.parameter(10, 0.5, True)\n",
    "mod_par['a_2_0'] = par.parameter(10, 0.5, True)\n",
    "mod_par['a_3_0'] = par.parameter(10, 0.5, True)\n",
    "mod_par['a_0_1'] = par.parameter(10, 0.5, True)\n",
    "mod_par['a_1_1'] = par.parameter(10, 0.5, True)\n",
    "mod_par['a_2_1'] = par.parameter(10, 0.5, True)\n",
    "mod_par['a_3_1'] = par.parameter(10, 0.5, True)\n",
    "get_model(model_list, time, mod_par, to_ecc=False)"
   ]
  },
  {
   "cell_type": "code",
   "execution_count": 3,
   "metadata": {},
   "outputs": [
    {
     "data": {
      "text/plain": [
       "2"
      ]
     },
     "execution_count": 3,
     "metadata": {},
     "output_type": "execute_result"
    }
   ],
   "source": [
    "for i in range(10):\n",
    "    if i == 2:\n",
    "        break\n",
    "i"
   ]
  },
  {
   "cell_type": "code",
   "execution_count": 10,
   "metadata": {},
   "outputs": [
    {
     "name": "stdout",
     "output_type": "stream",
     "text": [
      "no\n"
     ]
    }
   ],
   "source": [
    "a = [\"no_model\"]\n",
    "if a[0].startswith(\"no\"):\n",
    "    print(\"no\")"
   ]
  },
  {
   "cell_type": "code",
   "execution_count": null,
   "metadata": {},
   "outputs": [],
   "source": []
  }
 ],
 "metadata": {
  "kernelspec": {
   "display_name": "MAGPy",
   "language": "python",
   "name": "python3"
  },
  "language_info": {
   "codemirror_mode": {
    "name": "ipython",
    "version": 3
   },
   "file_extension": ".py",
   "mimetype": "text/x-python",
   "name": "python",
   "nbconvert_exporter": "python",
   "pygments_lexer": "ipython3",
   "version": "3.11.3"
  },
  "orig_nbformat": 4
 },
 "nbformat": 4,
 "nbformat_minor": 2
}
